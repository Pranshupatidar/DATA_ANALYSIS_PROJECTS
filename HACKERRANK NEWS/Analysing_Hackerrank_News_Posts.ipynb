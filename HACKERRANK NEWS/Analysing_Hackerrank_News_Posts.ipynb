{
 "cells": [
  {
   "cell_type": "markdown",
   "metadata": {},
   "source": [
    "# Exploring Hackerrank News posts\n",
    "##Data analysis"
   ]
  },
  {
   "cell_type": "code",
   "execution_count": 1,
   "metadata": {},
   "outputs": [],
   "source": [
    "from csv import reader"
   ]
  },
  {
   "cell_type": "code",
   "execution_count": 2,
   "metadata": {},
   "outputs": [],
   "source": [
    "open_file = open('C:\\Users\\LENOVO\\Desktop\\Data Science Python\\data sets\\hacker_news.csv')"
   ]
  },
  {
   "cell_type": "code",
   "execution_count": 3,
   "metadata": {},
   "outputs": [],
   "source": [
    "read_file = reader(open_file)"
   ]
  },
  {
   "cell_type": "code",
   "execution_count": 4,
   "metadata": {},
   "outputs": [],
   "source": [
    "hn = list(read_file)"
   ]
  },
  {
   "cell_type": "code",
   "execution_count": 5,
   "metadata": {},
   "outputs": [
    {
     "name": "stdout",
     "output_type": "stream",
     "text": [
      "[['id', 'title', 'url', 'num_points', 'num_comments', 'author', 'created_at'], ['12224879', 'Interactive Dynamic Video', 'http://www.interactivedynamicvideo.com/', '386', '52', 'ne0phyte', '8/4/2016 11:52'], ['10975351', 'How to Use Open Source and Shut the Fuck Up at the Same Time', 'http://hueniverse.com/2016/01/26/how-to-use-open-source-and-shut-the-fuck-up-at-the-same-time/', '39', '10', 'josep2', '1/26/2016 19:30'], ['11964716', \"Florida DJs May Face Felony for April Fools' Water Joke\", 'http://www.thewire.com/entertainment/2013/04/florida-djs-april-fools-water-joke/63798/', '2', '1', 'vezycash', '6/23/2016 22:20'], ['11919867', 'Technology ventures: From Idea to Enterprise', 'https://www.amazon.com/Technology-Ventures-Enterprise-Thomas-Byers/dp/0073523429', '3', '1', 'hswarna', '6/17/2016 0:01']]\n"
     ]
    }
   ],
   "source": [
    "print(hn[:5])"
   ]
  },
  {
   "cell_type": "code",
   "execution_count": 6,
   "metadata": {},
   "outputs": [],
   "source": [
    "headers = hn[0]"
   ]
  },
  {
   "cell_type": "code",
   "execution_count": 7,
   "metadata": {},
   "outputs": [],
   "source": [
    "hn = hn [1:]"
   ]
  },
  {
   "cell_type": "code",
   "execution_count": 8,
   "metadata": {},
   "outputs": [
    {
     "name": "stdout",
     "output_type": "stream",
     "text": [
      "[['12224879', 'Interactive Dynamic Video', 'http://www.interactivedynamicvideo.com/', '386', '52', 'ne0phyte', '8/4/2016 11:52'], ['10975351', 'How to Use Open Source and Shut the Fuck Up at the Same Time', 'http://hueniverse.com/2016/01/26/how-to-use-open-source-and-shut-the-fuck-up-at-the-same-time/', '39', '10', 'josep2', '1/26/2016 19:30'], ['11964716', \"Florida DJs May Face Felony for April Fools' Water Joke\", 'http://www.thewire.com/entertainment/2013/04/florida-djs-april-fools-water-joke/63798/', '2', '1', 'vezycash', '6/23/2016 22:20'], ['11919867', 'Technology ventures: From Idea to Enterprise', 'https://www.amazon.com/Technology-Ventures-Enterprise-Thomas-Byers/dp/0073523429', '3', '1', 'hswarna', '6/17/2016 0:01'], ['10301696', 'Note by Note: The Making of Steinway L1037 (2007)', 'http://www.nytimes.com/2007/11/07/movies/07stein.html?_r=0', '8', '2', 'walterbell', '9/30/2015 4:12']]\n"
     ]
    }
   ],
   "source": [
    "print(hn[:5])"
   ]
  },
  {
   "cell_type": "code",
   "execution_count": 9,
   "metadata": {},
   "outputs": [
    {
     "name": "stdout",
     "output_type": "stream",
     "text": [
      "['id', 'title', 'url', 'num_points', 'num_comments', 'author', 'created_at']\n"
     ]
    }
   ],
   "source": [
    "print(headers)"
   ]
  },
  {
   "cell_type": "code",
   "execution_count": 10,
   "metadata": {},
   "outputs": [],
   "source": [
    "ask_post=[]\n",
    "show_post=[]\n",
    "other_post=[]"
   ]
  },
  {
   "cell_type": "code",
   "execution_count": 11,
   "metadata": {},
   "outputs": [],
   "source": [
    "for row in hn:\n",
    "    title = row[1]\n",
    "    title = title.lower()\n",
    "    if title.startswith('ask hn'):\n",
    "        ask_post.append(row)\n",
    "    elif title.startswith('show hn'):\n",
    "        show_post.append(row)\n",
    "    else:\n",
    "        other_post.append(row)"
   ]
  },
  {
   "cell_type": "code",
   "execution_count": 12,
   "metadata": {},
   "outputs": [
    {
     "name": "stdout",
     "output_type": "stream",
     "text": [
      "1744\n",
      "1162\n",
      "17194\n"
     ]
    }
   ],
   "source": [
    "print(len(ask_post))\n",
    "print(len(show_post))\n",
    "print(len(other_post))"
   ]
  },
  {
   "cell_type": "code",
   "execution_count": 13,
   "metadata": {},
   "outputs": [],
   "source": [
    "total_ask=0\n",
    "for row in ask_post:\n",
    "    com = int(row[4])\n",
    "    total_ask+=com"
   ]
  },
  {
   "cell_type": "code",
   "execution_count": 14,
   "metadata": {},
   "outputs": [],
   "source": [
    "avg_ask = total_ask / len(ask_post)"
   ]
  },
  {
   "cell_type": "code",
   "execution_count": 15,
   "metadata": {},
   "outputs": [],
   "source": [
    "total_show=0\n",
    "for row in show_post:\n",
    "    com = int(row[4])\n",
    "    total_show+=com"
   ]
  },
  {
   "cell_type": "code",
   "execution_count": 16,
   "metadata": {},
   "outputs": [],
   "source": [
    "avg_show = total_show / len(show_post)"
   ]
  },
  {
   "cell_type": "code",
   "execution_count": 17,
   "metadata": {},
   "outputs": [
    {
     "name": "stdout",
     "output_type": "stream",
     "text": [
      "14\n",
      "10\n"
     ]
    }
   ],
   "source": [
    "print(avg_ask)\n",
    "print(avg_show)"
   ]
  },
  {
   "cell_type": "markdown",
   "metadata": {},
   "source": [
    "Clearly from above results \"ask hn\" receives more comments than \"show hn\" posts"
   ]
  },
  {
   "cell_type": "code",
   "execution_count": 18,
   "metadata": {},
   "outputs": [],
   "source": [
    "import datetime as dt"
   ]
  },
  {
   "cell_type": "code",
   "execution_count": 19,
   "metadata": {},
   "outputs": [],
   "source": [
    "result_list=[]"
   ]
  },
  {
   "cell_type": "code",
   "execution_count": 20,
   "metadata": {},
   "outputs": [],
   "source": [
    "for row in ask_post:\n",
    "    l=[]\n",
    "    l.append(row[6])\n",
    "    l.append(int(row[4]))\n",
    "    result_list.append(l)"
   ]
  },
  {
   "cell_type": "code",
   "execution_count": 21,
   "metadata": {},
   "outputs": [],
   "source": [
    "counts_by_hour = {}\n",
    "comments_by_hour = {}"
   ]
  },
  {
   "cell_type": "code",
   "execution_count": 22,
   "metadata": {},
   "outputs": [
    {
     "name": "stdout",
     "output_type": "stream",
     "text": [
      "[['8/16/2016 9:55', 6], ['11/22/2015 13:43', 29], ['5/2/2016 10:14', 1]]\n"
     ]
    }
   ],
   "source": [
    "print(result_list[:3])"
   ]
  },
  {
   "cell_type": "code",
   "execution_count": 23,
   "metadata": {},
   "outputs": [],
   "source": [
    "for row in result_list:\n",
    "    dt1=dt.datetime.strptime(row[0],\"%m/%d/%Y %H:%M\")\n",
    "    dt2=dt1.strftime(\"%H\")\n",
    "    if dt2 not in counts_by_hour:\n",
    "        counts_by_hour[dt2]=1\n",
    "        comments_by_hour[dt2]=row[1]\n",
    "    else:\n",
    "        counts_by_hour[dt2]+=1\n",
    "        comments_by_hour[dt2]+=row[1]"
   ]
  },
  {
   "cell_type": "code",
   "execution_count": 24,
   "metadata": {},
   "outputs": [
    {
     "name": "stdout",
     "output_type": "stream",
     "text": [
      "{'04': 47, '02': 58, '03': 54, '00': 55, '01': 60, '06': 44, '21': 109, '22': 71, '23': 68, '08': 48, '09': 45, '20': 80, '07': 34, '11': 58, '10': 59, '13': 85, '12': 73, '15': 116, '14': 107, '17': 100, '16': 108, '19': 110, '18': 109, '05': 46}\n"
     ]
    }
   ],
   "source": [
    "print(counts_by_hour)"
   ]
  },
  {
   "cell_type": "code",
   "execution_count": 25,
   "metadata": {},
   "outputs": [
    {
     "name": "stdout",
     "output_type": "stream",
     "text": [
      "{'04': 337, '02': 1381, '03': 421, '00': 447, '01': 683, '06': 397, '21': 1745, '22': 479, '23': 543, '08': 492, '09': 251, '20': 1722, '07': 267, '11': 641, '10': 793, '13': 1253, '12': 687, '15': 4477, '14': 1416, '17': 1146, '16': 1814, '19': 1188, '18': 1439, '05': 464}\n"
     ]
    }
   ],
   "source": [
    "print(comments_by_hour)"
   ]
  },
  {
   "cell_type": "code",
   "execution_count": 42,
   "metadata": {},
   "outputs": [],
   "source": [
    "avg_by_hour=[]"
   ]
  },
  {
   "cell_type": "code",
   "execution_count": 43,
   "metadata": {},
   "outputs": [],
   "source": [
    "for h in comments_by_hour:\n",
    "    avg_by_hour.append([h,comments_by_hour[h]/counts_by_hour[h]])"
   ]
  },
  {
   "cell_type": "code",
   "execution_count": 44,
   "metadata": {},
   "outputs": [
    {
     "name": "stdout",
     "output_type": "stream",
     "text": [
      "[['04', 7], ['02', 23], ['03', 7], ['00', 8], ['01', 11], ['06', 9], ['21', 16], ['22', 6], ['23', 7], ['08', 10], ['09', 5], ['20', 21], ['07', 7], ['11', 11], ['10', 13], ['13', 14], ['12', 9], ['15', 38], ['14', 13], ['17', 11], ['16', 16], ['19', 10], ['18', 13], ['05', 10]]\n"
     ]
    }
   ],
   "source": [
    "print(avg_by_hour)"
   ]
  },
  {
   "cell_type": "code",
   "execution_count": 45,
   "metadata": {},
   "outputs": [
    {
     "data": {
      "text/plain": [
       "[['04', 7],\n",
       " ['02', 23],\n",
       " ['03', 7],\n",
       " ['00', 8],\n",
       " ['01', 11],\n",
       " ['06', 9],\n",
       " ['21', 16],\n",
       " ['22', 6],\n",
       " ['23', 7],\n",
       " ['08', 10],\n",
       " ['09', 5],\n",
       " ['20', 21],\n",
       " ['07', 7],\n",
       " ['11', 11],\n",
       " ['10', 13],\n",
       " ['13', 14],\n",
       " ['12', 9],\n",
       " ['15', 38],\n",
       " ['14', 13],\n",
       " ['17', 11],\n",
       " ['16', 16],\n",
       " ['19', 10],\n",
       " ['18', 13],\n",
       " ['05', 10]]"
      ]
     },
     "execution_count": 45,
     "metadata": {},
     "output_type": "execute_result"
    }
   ],
   "source": [
    "avg_by_hour"
   ]
  },
  {
   "cell_type": "code",
   "execution_count": 46,
   "metadata": {},
   "outputs": [],
   "source": [
    "swap_list=[]"
   ]
  },
  {
   "cell_type": "code",
   "execution_count": 47,
   "metadata": {},
   "outputs": [],
   "source": [
    "for row in avg_by_hour:\n",
    "    swap_list.append([row[1],row[0]])"
   ]
  },
  {
   "cell_type": "code",
   "execution_count": 48,
   "metadata": {},
   "outputs": [
    {
     "data": {
      "text/plain": [
       "[[7, '04'],\n",
       " [23, '02'],\n",
       " [7, '03'],\n",
       " [8, '00'],\n",
       " [11, '01'],\n",
       " [9, '06'],\n",
       " [16, '21'],\n",
       " [6, '22'],\n",
       " [7, '23'],\n",
       " [10, '08'],\n",
       " [5, '09'],\n",
       " [21, '20'],\n",
       " [7, '07'],\n",
       " [11, '11'],\n",
       " [13, '10'],\n",
       " [14, '13'],\n",
       " [9, '12'],\n",
       " [38, '15'],\n",
       " [13, '14'],\n",
       " [11, '17'],\n",
       " [16, '16'],\n",
       " [10, '19'],\n",
       " [13, '18'],\n",
       " [10, '05']]"
      ]
     },
     "execution_count": 48,
     "metadata": {},
     "output_type": "execute_result"
    }
   ],
   "source": [
    "swap_list"
   ]
  },
  {
   "cell_type": "code",
   "execution_count": 49,
   "metadata": {},
   "outputs": [],
   "source": [
    "sorted_swap = sorted(swap_list , reverse=True)"
   ]
  },
  {
   "cell_type": "code",
   "execution_count": 50,
   "metadata": {},
   "outputs": [
    {
     "data": {
      "text/plain": [
       "[[38, '15'],\n",
       " [23, '02'],\n",
       " [21, '20'],\n",
       " [16, '21'],\n",
       " [16, '16'],\n",
       " [14, '13'],\n",
       " [13, '18'],\n",
       " [13, '14'],\n",
       " [13, '10'],\n",
       " [11, '17'],\n",
       " [11, '11'],\n",
       " [11, '01'],\n",
       " [10, '19'],\n",
       " [10, '08'],\n",
       " [10, '05'],\n",
       " [9, '12'],\n",
       " [9, '06'],\n",
       " [8, '00'],\n",
       " [7, '23'],\n",
       " [7, '07'],\n",
       " [7, '04'],\n",
       " [7, '03'],\n",
       " [6, '22'],\n",
       " [5, '09']]"
      ]
     },
     "execution_count": 50,
     "metadata": {},
     "output_type": "execute_result"
    }
   ],
   "source": [
    "sorted_swap"
   ]
  },
  {
   "cell_type": "code",
   "execution_count": 51,
   "metadata": {},
   "outputs": [
    {
     "data": {
      "text/plain": [
       "[[38, '15'], [23, '02'], [21, '20'], [16, '21'], [16, '16']]"
      ]
     },
     "execution_count": 51,
     "metadata": {},
     "output_type": "execute_result"
    }
   ],
   "source": [
    "sorted_swap[:5]"
   ]
  },
  {
   "cell_type": "code",
   "execution_count": null,
   "metadata": {},
   "outputs": [],
   "source": []
  },
  {
   "cell_type": "markdown",
   "metadata": {},
   "source": [
    "CLEARLY WE HAVE SHORTLISTED THE HOURS WHEN ONE CAN RECEIVE MAXIMUM NUMBER OF COMMENTS ON HACKERRANK NEWS POSTS"
   ]
  },
  {
   "cell_type": "code",
   "execution_count": null,
   "metadata": {},
   "outputs": [],
   "source": []
  }
 ],
 "metadata": {
  "kernelspec": {
   "display_name": "Python 2",
   "language": "python",
   "name": "python2"
  },
  "language_info": {
   "codemirror_mode": {
    "name": "ipython",
    "version": 2
   },
   "file_extension": ".py",
   "mimetype": "text/x-python",
   "name": "python",
   "nbconvert_exporter": "python",
   "pygments_lexer": "ipython2",
   "version": "2.7.15"
  }
 },
 "nbformat": 4,
 "nbformat_minor": 2
}
